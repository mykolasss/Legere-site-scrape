{
 "cells": [
  {
   "cell_type": "code",
   "execution_count": 1,
   "metadata": {},
   "outputs": [],
   "source": [
    "#importing libraries\n",
    "import requests\n",
    "from bs4 import BeautifulSoup as soup\n",
    "import csv\n",
    "import pandas as pd"
   ]
  },
  {
   "cell_type": "code",
   "execution_count": 2,
   "metadata": {},
   "outputs": [],
   "source": [
    "url = 'https://shop.legere.com/' #URL of the site\n",
    "r = requests.get(url)\n",
    "content = r.text\n",
    "page_soup = soup(content, 'html')\n",
    "links = []\n",
    "for x in page_soup.find_all('div', {\"class\" : 'collection-grid-item'}): #Get the URL's of different reed categories and put them all in a list\n",
    "    for y in x.find_all('a', class_ = 'collection-grid-item__link'):\n",
    "        links.append(str(url) + str(y.get('href')))\n",
    "prices = [] #Create empty list where the prices will be appended\n",
    "names = [] #Create empty list where the names of the reeds will be appended\n",
    "for link in links:\n",
    "    req = requests.get(link)\n",
    "    cont = req.text\n",
    "    page_sp = soup(cont, 'html')\n",
    "    for x in page_sp.find_all('span', class_ = \"product-price__price\"):\n",
    "        prices.append(x.text) #Append the gathered prices to a list\n",
    "    for x in page_sp.find_all('div', class_ = \"list-view-item__title\"):\n",
    "        names.append(x.text) #Append the gathered reed names to a list\n",
    "lst = {'Names' : names, 'Prices': prices} #Create a dictionary where names and prices will be stored\n",
    "lst = pd.DataFrame(lst).to_excel('Legere.xlsx', encoding = 'UTF-8') #Turn the dictionary to a dataframe and export as xlsx format file"
   ]
  },
  {
   "cell_type": "code",
   "execution_count": null,
   "metadata": {},
   "outputs": [],
   "source": []
  }
 ],
 "metadata": {
  "kernelspec": {
   "display_name": "Python 3",
   "language": "python",
   "name": "python3"
  },
  "language_info": {
   "codemirror_mode": {
    "name": "ipython",
    "version": 3
   },
   "file_extension": ".py",
   "mimetype": "text/x-python",
   "name": "python",
   "nbconvert_exporter": "python",
   "pygments_lexer": "ipython3",
   "version": "3.8.3"
  }
 },
 "nbformat": 4,
 "nbformat_minor": 4
}
